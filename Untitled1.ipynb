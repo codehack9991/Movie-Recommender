{
 "cells": [
  {
   "cell_type": "code",
   "execution_count": 3,
   "metadata": {},
   "outputs": [
    {
     "ename": "ModuleNotFoundError",
     "evalue": "No module named 'keras'",
     "output_type": "error",
     "traceback": [
      "\u001b[1;31m---------------------------------------------------------------------------\u001b[0m",
      "\u001b[1;31mModuleNotFoundError\u001b[0m                       Traceback (most recent call last)",
      "\u001b[1;32m<ipython-input-3-328914df62fe>\u001b[0m in \u001b[0;36m<module>\u001b[1;34m()\u001b[0m\n\u001b[0;32m      2\u001b[0m \u001b[1;32mfrom\u001b[0m \u001b[0mnumpy\u001b[0m \u001b[1;32mimport\u001b[0m \u001b[0marray\u001b[0m\u001b[1;33m\u001b[0m\u001b[0m\n\u001b[0;32m      3\u001b[0m \u001b[1;32mfrom\u001b[0m \u001b[0mnumpy\u001b[0m \u001b[1;32mimport\u001b[0m \u001b[0margmax\u001b[0m\u001b[1;33m\u001b[0m\u001b[0m\n\u001b[1;32m----> 4\u001b[1;33m \u001b[1;32mfrom\u001b[0m \u001b[0mkeras\u001b[0m\u001b[1;33m.\u001b[0m\u001b[0mutils\u001b[0m \u001b[1;32mimport\u001b[0m \u001b[0mto_categorical\u001b[0m\u001b[1;33m\u001b[0m\u001b[0m\n\u001b[0m",
      "\u001b[1;31mModuleNotFoundError\u001b[0m: No module named 'keras'"
     ]
    }
   ],
   "source": [
    "import pandas as pd\n",
    "from numpy import array\n",
    "from numpy import argmax\n",
    "from keras.utils import to_categorical"
   ]
  },
  {
   "cell_type": "code",
   "execution_count": 2,
   "metadata": {
    "collapsed": true
   },
   "outputs": [],
   "source": [
    "user_features=pd.read_csv(\"users.csv\")"
   ]
  },
  {
   "cell_type": "code",
   "execution_count": 4,
   "metadata": {},
   "outputs": [
    {
     "name": "stdout",
     "output_type": "stream",
     "text": [
      "['M' 'F' 'M' 'M' 'M' 'M' 'M' 'M' 'M' 'M' 'M' 'M' 'M' 'M' 'F' 'M' 'F' 'M'\n",
      " 'M' 'M' 'M' 'M' 'M' 'M' 'M' 'M' 'M' 'M' 'M' 'M' 'F' 'M' 'M' 'M' 'F' 'M'\n",
      " 'M' 'F' 'M' 'M' 'M' 'M' 'F' 'M' 'F' 'M' 'M' 'M' 'M' 'M' 'M' 'M' 'M' 'M'\n",
      " 'M' 'M' 'M' 'M' 'F' 'M' 'M' 'F' 'M' 'M' 'M' 'M' 'M' 'M' 'M' 'M' 'M' 'M'\n",
      " 'F' 'M' 'M' 'F' 'M' 'M' 'F' 'M' 'M' 'M' 'M' 'F' 'M' 'F' 'F' 'F' 'M' 'M'\n",
      " 'M' 'M' 'F' 'M' 'M' 'F' 'F' 'M' 'M' 'F' 'F' 'F' 'F' 'F' 'M' 'F' 'F' 'M'\n",
      " 'F' 'M' 'M' 'M' 'F' 'F' 'M' 'M' 'M' 'M' 'M' 'M' 'M' 'F' 'F' 'M' 'M' 'M'\n",
      " 'F' 'M' 'M' 'M' 'M' 'F' 'M' 'F' 'M' 'M' 'M' 'M' 'M' 'M' 'M' 'F' 'F' 'M'\n",
      " 'M' 'M' 'M' 'M' 'F' 'F' 'M' 'M' 'F' 'M' 'M' 'M' 'M' 'M' 'M' 'F' 'M' 'M'\n",
      " 'M' 'M' 'M' 'M' 'M' 'M' 'M' 'M' 'M' 'M' 'F' 'M' 'M' 'M' 'M' 'M' 'M' 'F'\n",
      " 'M' 'M' 'M' 'F' 'M' 'M' 'M' 'F' 'F' 'M' 'M' 'M' 'M' 'M' 'F' 'F' 'M' 'M'\n",
      " 'M' 'M' 'F' 'F' 'M' 'M' 'M' 'F' 'M' 'F' 'F' 'M' 'M' 'M' 'M' 'M' 'F' 'F'\n",
      " 'M' 'F' 'M' 'M' 'M' 'M' 'M' 'M' 'F' 'F' 'F' 'M' 'M' 'M' 'M' 'M' 'M' 'M'\n",
      " 'M' 'F' 'F' 'F' 'M' 'F' 'M' 'M' 'M' 'M' 'M' 'M' 'F' 'F' 'F' 'F' 'M' 'M'\n",
      " 'M' 'M' 'M' 'M' 'M' 'F' 'F' 'M' 'F' 'F' 'M' 'F' 'F' 'M' 'F' 'M' 'F' 'F'\n",
      " 'M' 'M' 'M' 'M' 'F' 'M' 'M' 'F' 'M' 'M' 'F' 'M' 'M' 'F' 'F' 'M' 'M' 'M'\n",
      " 'F' 'M' 'M' 'F' 'F' 'F' 'M' 'M' 'F' 'M' 'M' 'F' 'F' 'M' 'F' 'F' 'F' 'M'\n",
      " 'M' 'F' 'M' 'M' 'M' 'M' 'M' 'M' 'M' 'F' 'M' 'M' 'F' 'M' 'M' 'M' 'M' 'M'\n",
      " 'M' 'F' 'M' 'M' 'M' 'M' 'M' 'F' 'M' 'F' 'F' 'M' 'M' 'F' 'M' 'M' 'M' 'M'\n",
      " 'M' 'F' 'F' 'M' 'M' 'M' 'M' 'M' 'M' 'M' 'F' 'M' 'M' 'F' 'M' 'M' 'M' 'M'\n",
      " 'M' 'M' 'M' 'F' 'M' 'F' 'M' 'M' 'F' 'M' 'M' 'M' 'M' 'F' 'M' 'M' 'M' 'M'\n",
      " 'M' 'M' 'M' 'M' 'M' 'M' 'M' 'M' 'F' 'M' 'M' 'M' 'M' 'M' 'M' 'F' 'M' 'F'\n",
      " 'M' 'M' 'F' 'M' 'M' 'M' 'M' 'F' 'M' 'M' 'M' 'F' 'F' 'M' 'M' 'F' 'M' 'M'\n",
      " 'M' 'M' 'F' 'F' 'F' 'M' 'M' 'M' 'M' 'M' 'F' 'M' 'F' 'M' 'F' 'M' 'M' 'M'\n",
      " 'M' 'M' 'F' 'M' 'F' 'M' 'M' 'M' 'M' 'M' 'M' 'M' 'M' 'F' 'M' 'M' 'F' 'F'\n",
      " 'M' 'M' 'M' 'M' 'M' 'M' 'M' 'M' 'M' 'M' 'M' 'M' 'M' 'M' 'M' 'F' 'M' 'M'\n",
      " 'M' 'M' 'M' 'F' 'M' 'M' 'M' 'F' 'M' 'M' 'F' 'M' 'F' 'M' 'M' 'M' 'M' 'M'\n",
      " 'M' 'M' 'F' 'M' 'F' 'M' 'M' 'M' 'M' 'M' 'M' 'F' 'M' 'M' 'M' 'M' 'M' 'M'\n",
      " 'F' 'M' 'F' 'M' 'F' 'F' 'F' 'F' 'M' 'M' 'M' 'M' 'F' 'F' 'F' 'M' 'F' 'M'\n",
      " 'F' 'M' 'M' 'M' 'F' 'M' 'M' 'M' 'M' 'M' 'M' 'M' 'F' 'M' 'F' 'M' 'F' 'F'\n",
      " 'F' 'M' 'M' 'M' 'F' 'M' 'M' 'F' 'M' 'M' 'M' 'M' 'M' 'M' 'F' 'F' 'F' 'M'\n",
      " 'M' 'M' 'F' 'F' 'M' 'M' 'F' 'M' 'F' 'F' 'M' 'M' 'M' 'F' 'F' 'M' 'M' 'M'\n",
      " 'M' 'F' 'M' 'M' 'M' 'M' 'F' 'F' 'M' 'M' 'F' 'M' 'M' 'M' 'M' 'F' 'F' 'M'\n",
      " 'M' 'M' 'F' 'M' 'F' 'M' 'M' 'F' 'M' 'M' 'M' 'F' 'M' 'M' 'M' 'F' 'F' 'M'\n",
      " 'F' 'F' 'M' 'F' 'M' 'F' 'F' 'F' 'F' 'M' 'M' 'M' 'M' 'M' 'M' 'F' 'M' 'F'\n",
      " 'M' 'F' 'F' 'M' 'M' 'F' 'F' 'M' 'M' 'M' 'F' 'F' 'M' 'M' 'F' 'M' 'F' 'M'\n",
      " 'F' 'M' 'F' 'F' 'M' 'M' 'M' 'M' 'F' 'M' 'M' 'F' 'M' 'F' 'M' 'M' 'M' 'M'\n",
      " 'M' 'M' 'M' 'F' 'M' 'F' 'M' 'M' 'M' 'F' 'M' 'F' 'M' 'M' 'F' 'M' 'M' 'M'\n",
      " 'M' 'M' 'M' 'M' 'M' 'M' 'M' 'M' 'M' 'M' 'M' 'M' 'F' 'M' 'M' 'M' 'M' 'M'\n",
      " 'M' 'M' 'M' 'M' 'M' 'M' 'F' 'M' 'M' 'M' 'M' 'M' 'M' 'M' 'F' 'M' 'M' 'F'\n",
      " 'M' 'F' 'F' 'M' 'M' 'F' 'M' 'M' 'F' 'M' 'M' 'M' 'F' 'M' 'M' 'M' 'M' 'M'\n",
      " 'F' 'F' 'M' 'F' 'M' 'M' 'M' 'M' 'M' 'F' 'M' 'F' 'M' 'M' 'F' 'M' 'F' 'M'\n",
      " 'F' 'M' 'M' 'M' 'M' 'F' 'M' 'F' 'M' 'M' 'M' 'M' 'F' 'M' 'F' 'M' 'M' 'F'\n",
      " 'M' 'M' 'F' 'F' 'M' 'M' 'F' 'M' 'M' 'M' 'F' 'F' 'M' 'M' 'F' 'F' 'F' 'M'\n",
      " 'F' 'M' 'M' 'M' 'M' 'M' 'M' 'M' 'M' 'M' 'F' 'M' 'F' 'M' 'M' 'M' 'M' 'M'\n",
      " 'F' 'F' 'M' 'M' 'M' 'M' 'M' 'F' 'M' 'F' 'M' 'M' 'M' 'M' 'F' 'M' 'M' 'M'\n",
      " 'M' 'M' 'F' 'M' 'M' 'M' 'M' 'M' 'M' 'F' 'M' 'M' 'M' 'F' 'F' 'F' 'M' 'M'\n",
      " 'M' 'M' 'M' 'M' 'M' 'M' 'M' 'F' 'M' 'M' 'M' 'F' 'M' 'M' 'F' 'M' 'M' 'M'\n",
      " 'M' 'F' 'M' 'F' 'M' 'M' 'M' 'M' 'F' 'M' 'M' 'M' 'F' 'M' 'M' 'M' 'F' 'M'\n",
      " 'M' 'M' 'F' 'M' 'F' 'F' 'M' 'M' 'M' 'M' 'M' 'M' 'F' 'M' 'M' 'F' 'M' 'M'\n",
      " 'M' 'M' 'F' 'M' 'M' 'F' 'M' 'F' 'F' 'M' 'F' 'F' 'M' 'M' 'M' 'M' 'F' 'M'\n",
      " 'F' 'F' 'M' 'M' 'M' 'M' 'M' 'M' 'M' 'M' 'M' 'M' 'F' 'M' 'M' 'M' 'F' 'M'\n",
      " 'M' 'F' 'F' 'F' 'M' 'M' 'M']\n"
     ]
    }
   ],
   "source": [
    "data = user_features[\"gender\"]\n",
    "data = array(data)\n",
    "print(data)\n",
    "# one hot encode\n",
    "encoded = to_categorical(data)\n",
    "print(encoded)\n",
    "# invert encoding\n",
    "inverted = argmax(encoded[0])\n",
    "print(inverted)"
   ]
  },
  {
   "cell_type": "code",
   "execution_count": null,
   "metadata": {
    "collapsed": true
   },
   "outputs": [],
   "source": []
  }
 ],
 "metadata": {
  "kernelspec": {
   "display_name": "Python 3",
   "language": "python",
   "name": "python3"
  },
  "language_info": {
   "codemirror_mode": {
    "name": "ipython",
    "version": 3
   },
   "file_extension": ".py",
   "mimetype": "text/x-python",
   "name": "python",
   "nbconvert_exporter": "python",
   "pygments_lexer": "ipython3",
   "version": "3.6.1"
  }
 },
 "nbformat": 4,
 "nbformat_minor": 2
}
